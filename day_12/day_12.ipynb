{
 "cells": [
  {
   "cell_type": "code",
   "execution_count": 17,
   "metadata": {},
   "outputs": [
    {
     "name": "stdout",
     "output_type": "stream",
     "text": [
      "outside the class:\n",
      "global variable : 10\n",
      "outside the method \n",
      "instance variable  20\n",
      "function inside ----:\n",
      "global variable : 10\n",
      "instance variable : 20\n",
      "local variable : 30\n"
     ]
    }
   ],
   "source": [
    "# Defining a classc\n",
    "class MyClass:\n",
    "\n",
    "    # Class variable with global scope\n",
    "    global_var=10\n",
    "\n",
    "    # Constructor method to initialize instance variable\n",
    "    def __init__(self):\n",
    "\n",
    "        # Instance variable with local scope within each object\n",
    "        self.instance_var=20\n",
    "\n",
    "    # Method within the class\n",
    "    def my_method (self):\n",
    "            \n",
    "            # Local variable within the method\n",
    "            local_var=30\n",
    "\n",
    "            # Printing values inside the method\n",
    "            print(\"function inside ----:\")\n",
    "            print(\"global variable :\",MyClass.global_var)\n",
    "            print(\"instance variable :\",self.instance_var)\n",
    "            print(\"local variable :\",local_var)\n",
    "\n",
    "# Accessing the class variable (global scope)    \n",
    "print(\"outside the class:\")\n",
    "print(\"global variable :\", MyClass.global_var)\n",
    "\n",
    "# Creating an instance of MyClass\n",
    "my_obj = MyClass()\n",
    "\n",
    "# Accessing the instance variable (local scope within the object)\n",
    "print(\"outside the method \")\n",
    "print(\"instance variable \",my_obj.instance_var)\n",
    "\n",
    "# Calling the method\n",
    "my_obj.my_method()\n",
    "\n",
    "                                # outside the class:\n",
    "                                # global variable : 10\n",
    "                                # outside the method \n",
    "                                # instance variable  20\n",
    "                                # function inside ----:\n",
    "                                # global variable : 10\n",
    "                                # instance variable : 20\n",
    "                                # local variable : 30\n"
   ]
  },
  {
   "cell_type": "code",
   "execution_count": null,
   "metadata": {},
   "outputs": [],
   "source": []
  }
 ],
 "metadata": {
  "kernelspec": {
   "display_name": "Python 3",
   "language": "python",
   "name": "python3"
  },
  "language_info": {
   "codemirror_mode": {
    "name": "ipython",
    "version": 3
   },
   "file_extension": ".py",
   "mimetype": "text/x-python",
   "name": "python",
   "nbconvert_exporter": "python",
   "pygments_lexer": "ipython3",
   "version": "3.8.10"
  },
  "orig_nbformat": 4
 },
 "nbformat": 4,
 "nbformat_minor": 2
}
