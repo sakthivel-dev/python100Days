{
 "cells": [
  {
   "cell_type": "code",
   "execution_count": 9,
   "metadata": {},
   "outputs": [
    {
     "name": "stdout",
     "output_type": "stream",
     "text": [
      "Pattern found at index: 17\n"
     ]
    }
   ],
   "source": [
    "# Regular expressions (regex or regexp) are powerful\n",
    "#  tools for pattern matching and text manipulation.\n",
    "# Matching Patterns:\n",
    "import re\n",
    "\n",
    "# Search for the pattern 'apple' in the text\n",
    "text = \"I like to eat an apple every day.\"\n",
    "pattern = \"apple\"\n",
    "match = re.search(pattern, text)\n",
    "\n",
    "if match:\n",
    "    print(\"Pattern found at index:\", match.start())\n",
    "else:\n",
    "    print(\"Pattern not found.\")\n",
    "\n",
    "                    # Pattern found at index: 17"
   ]
  },
  {
   "cell_type": "code",
   "execution_count": 7,
   "metadata": {},
   "outputs": [
    {
     "name": "stdout",
     "output_type": "stream",
     "text": [
      "All occurrences: ['apple']\n"
     ]
    }
   ],
   "source": [
    "# Find all occurrences of the word 'apple' in the text\n",
    "all_occurrences = re.findall(pattern, text)\n",
    "print(\"All occurrences:\", all_occurrences)\n",
    "\n",
    "                    # All occurrences: ['apple']"
   ]
  },
  {
   "cell_type": "code",
   "execution_count": null,
   "metadata": {},
   "outputs": [],
   "source": []
  },
  {
   "cell_type": "code",
   "execution_count": null,
   "metadata": {},
   "outputs": [],
   "source": []
  },
  {
   "cell_type": "code",
   "execution_count": null,
   "metadata": {},
   "outputs": [],
   "source": []
  }
 ],
 "metadata": {
  "kernelspec": {
   "display_name": "Python 3",
   "language": "python",
   "name": "python3"
  },
  "language_info": {
   "codemirror_mode": {
    "name": "ipython",
    "version": 3
   },
   "file_extension": ".py",
   "mimetype": "text/x-python",
   "name": "python",
   "nbconvert_exporter": "python",
   "pygments_lexer": "ipython3",
   "version": "3.8.10"
  },
  "orig_nbformat": 4
 },
 "nbformat": 4,
 "nbformat_minor": 2
}
