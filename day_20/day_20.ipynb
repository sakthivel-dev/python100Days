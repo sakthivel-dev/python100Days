{
 "cells": [
  {
   "cell_type": "code",
   "execution_count": 13,
   "metadata": {},
   "outputs": [
    {
     "name": "stdout",
     "output_type": "stream",
     "text": [
      "concatenate two array : [1 2 3 4 5 6]\n",
      "Join two 2-D arrays along rows : [[1 2 3 4 5 6]\n",
      " [3 4 5 6 7 8]]\n",
      "Joining Arrays Using Stack Functions : [[1 4]\n",
      " [2 5]\n",
      " [3 6]]\n",
      "helper function: hstack : [[ 1  2  3  7  8  9]\n",
      " [ 4  5  6 10 11 12]]\n",
      "helper function: vstack : [[1 2 3]\n",
      " [4 5 6]]\n",
      "Stacking Along Height : [[[ 1  4]\n",
      "  [ 2  5]\n",
      "  [ 3  6]]\n",
      "\n",
      " [[ 6 10]\n",
      "  [ 7 11]\n",
      "  [ 8 12]]]\n"
     ]
    }
   ],
   "source": [
    "# NumPy Joining Array\n",
    "# package import \n",
    "import numpy as np\n",
    "arr_1=np.array([1,2,3])\n",
    "arr_2=np.array([4,5,6])\n",
    "# concatenate on two array\n",
    "arr=np.concatenate((arr_1 , arr_2))\n",
    "print(\"concatenate two array :\",arr)\n",
    "                            # output :concatenate two array : [1 2 3 4 5 6]\n",
    "\n",
    "# Join two 2-D arrays along rows (axis=1)\n",
    "arr_1=np.array([[1,2,3],[3,4,5]])\n",
    "arr_2=np.array([[4,5,6],[6,7,8]])\n",
    "arr=np.concatenate((arr_1,arr_2),axis=1)\n",
    "print(\"Join two 2-D arrays along rows :\",arr)\n",
    "                                # output :Join two 2-D arrays along rows : [[1 2 3 4 5 6]\n",
    "                                #                                          [3 4 5 6 7 8]]\n",
    "\n",
    "# Joining Arrays Using Stack Functions\n",
    "# Stacking is same as concatenation, the only difference is that stacking is done along a new axis\n",
    "arr_1=np.array([1,2,3])\n",
    "arr_2=np.array([4,5,6])\n",
    "arr=np.stack((arr_1 , arr_2),axis=1)\n",
    "print(\"Joining Arrays Using Stack Functions :\",arr)\n",
    "                                # output :Joining Arrays Using Stack Functions : [[1 4]\n",
    "                                #                                                [2 5]\n",
    "                                #                                                [3 6]]\n",
    "# Stacking Along Rows\n",
    "# NumPy provides a helper function: hstack() to stack along rows.\n",
    "arr_1=np.array([[1,2,3],[4,5,6]])\n",
    "arr_2=np.array([[7,8,9],[10,11,12]])\n",
    "arr=np.hstack((arr_1 , arr_2))\n",
    "print(\"helper function: hstack :\",arr)\n",
    "                                # output :helper function: hstack : [[ 1  2  3  7  8  9]\n",
    "                                                                 #  [ 4  5  6 10 11 12]]\n",
    "\n",
    "# Stacking Along Columns\n",
    "# NumPy provides a helper function: vstack()  to stack along columns\n",
    "arr_1=np.array([1,2,3])\n",
    "arr_2=np.array([4,5,6])\n",
    "arr=np.vstack((arr_1 , arr_2))\n",
    "print(\"helper function: vstack :\",arr)\n",
    "\n",
    "# Stacking Along Height (depth)\n",
    "# NumPy provides a helper function: dstack() to stack along height, which is the same as depth\n",
    "\n",
    "# Stacking Along Height (depth)\n",
    "# NumPy provides a helper function: dstack() to stack along height, which is the same as depth\n",
    "arr_1=np.array([[1,2,3],[6,7,8]])\n",
    "arr_2=np.array([[4,5,6],[10,11,12]])\n",
    "arr=np.dstack((arr_1 , arr_2))\n",
    "print(\"Stacking Along Height :\",arr)\n",
    "                                            # output :Stacking Along Height : [[[ 1  4]\n",
    "                                            #                                 [ 2  5]\n",
    "                                            #                                 [ 3  6]]\n",
    "\n",
    "                                            #                                 [[ 6 10]\n",
    "                                            #                                 [ 7 11]\n",
    "                                            #                                 [ 8 12]]]\n",
    "\n",
    "\n",
    "\n"
   ]
  },
  {
   "cell_type": "code",
   "execution_count": 26,
   "metadata": {},
   "outputs": [
    {
     "name": "stdout",
     "output_type": "stream",
     "text": [
      "NumPy Splitting Array [array([1, 2, 3, 4, 5]), array([ 6,  7,  8,  9, 10])]\n",
      "NumPy Searching Arrays (array([3]),)\n",
      "NumPy Sorting Arrays [ 1  2  3  4  5  6  7  8  9 10]\n",
      "filter_elements : [40 50 60 70 80]\n",
      " conditions : [False, False, True, True, True, True, True]\n"
     ]
    }
   ],
   "source": [
    "# NumPy Splitting Array\n",
    "arr=np.array([1,2,3,4,5,6,7,8,9,10])\n",
    "new_arr=np.array_split(arr,2)\n",
    "print(\"NumPy Splitting Array\",new_arr)\n",
    "                    # output : NumPy Splitting Array [array([1, 2, 3, 4, 5]), array([ 6,  7,  8,  9, 10])]\n",
    "\n",
    "# NumPy Searching Arrays\n",
    "arr=np.array([1,2,3,4,5,6,7,8,9,10])\n",
    "find_index_of_number=np.where(arr==4)\n",
    "print(\"NumPy Searching Arrays\",find_index_of_number)\n",
    "                    # output :NumPy Searching Arrays (array([3]),)\n",
    "# NumPy Sorting Arrays\n",
    "arr=np.array([10,9,8,7,6,5,4,3,2,1])\n",
    "sort_array=np.sort(arr)\n",
    "print(\"NumPy Sorting Arrays\",sort_array)\n",
    "                    # output :NumPy Sorting Arrays [ 1  2  3  4  5  6  7  8  9 10]\n",
    "\n",
    "# NumPy Filter Array\n",
    "arr=np.array([20,30,40,50,60,70,80])\n",
    "filter_elements=[]\n",
    "for ele in arr:\n",
    "    if ele>30:\n",
    "        filter_elements.append(True)\n",
    "    else:\n",
    "        filter_elements.append(False)\n",
    "new_arr=arr[filter_elements]\n",
    "print(\"filter_elements :\",new_arr)\n",
    "print(\" conditions :\",filter_elements)\n",
    "                                # output :filter_elements : [40 50 60 70 80]\n",
    "                                        #  conditions : [False, False, True, True, True, True, True]"
   ]
  },
  {
   "cell_type": "code",
   "execution_count": null,
   "metadata": {},
   "outputs": [],
   "source": []
  }
 ],
 "metadata": {
  "kernelspec": {
   "display_name": "Python 3",
   "language": "python",
   "name": "python3"
  },
  "language_info": {
   "codemirror_mode": {
    "name": "ipython",
    "version": 3
   },
   "file_extension": ".py",
   "mimetype": "text/x-python",
   "name": "python",
   "nbconvert_exporter": "python",
   "pygments_lexer": "ipython3",
   "version": "3.8.10"
  },
  "orig_nbformat": 4
 },
 "nbformat": 4,
 "nbformat_minor": 2
}
