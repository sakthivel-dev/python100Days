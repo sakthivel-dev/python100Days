{
 "cells": [
  {
   "cell_type": "code",
   "execution_count": 13,
   "metadata": {},
   "outputs": [
    {
     "name": "stdout",
     "output_type": "stream",
     "text": [
      "arr it as have modified first index [22  2  3  4  5]\n",
      "in x it as keep the original values : [1 2 3 4 5]\n",
      "output of arr : [1000   33   44   55]\n",
      " output of x : [1000   33   44   55]\n",
      "shape of arr (2, 4)\n",
      "shape of arr (1, 1, 1, 1, 6)\n",
      "reshape of arr [[ 1  2]\n",
      " [ 3  4]\n",
      " [ 5  6]\n",
      " [ 7 89]\n",
      " [ 1  0]]\n",
      "reshape of arr : [[ 1  3  4]\n",
      " [57  8  9]\n",
      " [ 0  7  4]\n",
      " [ 5 87 99]]\n"
     ]
    }
   ],
   "source": [
    "# NumPy Array Copy vs View\n",
    "# package import \n",
    "import numpy as np\n",
    "arr=np.array([1,2,3,4,5])\n",
    "# Make a copy, change the original array, and display both arrays\n",
    "x=arr.copy()\n",
    "arr[0]=22\n",
    "print(\"arr it as have modified first index\",arr)\n",
    "print(\"in x it as keep the original values :\",x)\n",
    "                    # output : arr it as have modified first index [22  2  3  4  5]\n",
    "                    # output : in x it as keep the original values : [1 2 3 4 5]\n",
    "\n",
    "# Make a view, change the view, and display both arrays\n",
    "arr=np.array([22,33,44,55])\n",
    "x=arr.view()\n",
    "x[0]=1000\n",
    "print(\"output of arr :\",arr)\n",
    "print(\" output of x :\",x)\n",
    "                    # output of arr : [1000   33   44   55]\n",
    "                    #  output of x : [1000   33   44   55]\n",
    "\n",
    "# NumPy Array Shape\n",
    "arr=np.array([[1,2,4,5],[3,5,6,7]])\n",
    "print(\"shape of arr\",arr.shape)\n",
    "                    # output :shape of arr (2, 4)\n",
    "\n",
    "# Create an array with 5 dimensions\n",
    "arr=np.array([2,3,4,6,7,8],ndmin=5)\n",
    "print(\"shape of arr\",arr.shape)\n",
    "\n",
    "# NumPy Array Reshaping\n",
    "arr=np.array([1,2,3,4,5,6,7,89,1,0])\n",
    "# Reshape From 1-D to 2-D\n",
    "print(\"reshape of arr\",arr.reshape(5,2))\n",
    "                                # output :reshape of arr [[ 1  2]\n",
    "                                                    #  [ 3  4]\n",
    "                                                    #  [ 5  6]\n",
    "                                                    #  [ 7 89]\n",
    "                                                    #  [ 1  0]]\n",
    "\n",
    "# Reshape From 1-D to 3-D\n",
    "arr=np.array([1,3,4,57,8,9,0,7,4,5,87,99])\n",
    "print(\"reshape of arr :\",arr.reshape(4,3))\n",
    "# output :reshape of arr : [[ 1  3  4]\n",
    "                         # [57  8  9]\n",
    "                         # [ 0  7  4]\n",
    "                         # [ 5 87 99]]\n"
   ]
  },
  {
   "cell_type": "code",
   "execution_count": null,
   "metadata": {},
   "outputs": [],
   "source": []
  }
 ],
 "metadata": {
  "kernelspec": {
   "display_name": "Python 3",
   "language": "python",
   "name": "python3"
  },
  "language_info": {
   "codemirror_mode": {
    "name": "ipython",
    "version": 3
   },
   "file_extension": ".py",
   "mimetype": "text/x-python",
   "name": "python",
   "nbconvert_exporter": "python",
   "pygments_lexer": "ipython3",
   "version": "3.8.10"
  },
  "orig_nbformat": 4
 },
 "nbformat": 4,
 "nbformat_minor": 2
}
