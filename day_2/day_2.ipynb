{
 "cells": [
  {
   "cell_type": "code",
   "execution_count": null,
   "metadata": {},
   "outputs": [],
   "source": [
    "# Example : Using for loop\n",
    "fruits = [\"apple\", \"banana\", \"orange\"]\n",
    "for fruit in fruits:\n",
    "    print(fruit)\n",
    "                # apple\n",
    "                # banana\n",
    "                # orange"
   ]
  },
  {
   "cell_type": "code",
   "execution_count": null,
   "metadata": {},
   "outputs": [],
   "source": [
    "# Example: Using if-elif-else statement\n",
    "num = 0\n",
    "if num > 0:\n",
    "    print(\"Number is positive.\")\n",
    "elif num < 0:\n",
    "    print(\"Number is negative.\")\n",
    "else:\n",
    "    print(\"Number is zero.\")\n",
    "# Number is zero."
   ]
  },
  {
   "cell_type": "code",
   "execution_count": null,
   "metadata": {},
   "outputs": [],
   "source": [
    "# Conditional Statements\n",
    "# Example: Using if statement\n",
    "age = 20\n",
    "if age >= 18:\n",
    "    print(\"You are eligible to vote!\")\n",
    "# You are eligible to vote!\n",
    "# Example: Using if-else statement\n",
    "age = 15\n",
    "if age >= 18:\n",
    "    print(\"You are eligible to vote!\")\n",
    "else:\n",
    "    print(\"You are not old enough to vote yet.\")\n",
    "# You are not old enough to vote yet."
   ]
  },
  {
   "cell_type": "code",
   "execution_count": null,
   "metadata": {},
   "outputs": [],
   "source": [
    "# Example : Using while loop\n",
    "count = 0\n",
    "while count < 5:\n",
    "    print(count)\n",
    "    count += 1\n",
    "        # 0\n",
    "        # 1\n",
    "        # 2\n",
    "        # 3\n",
    "        # 4"
   ]
  }
 ],
 "metadata": {
  "language_info": {
   "name": "python"
  },
  "orig_nbformat": 4
 },
 "nbformat": 4,
 "nbformat_minor": 2
}
