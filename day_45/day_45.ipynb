{
 "cells": [
  {
   "cell_type": "code",
   "execution_count": 4,
   "metadata": {},
   "outputs": [
    {
     "name": "stdout",
     "output_type": "stream",
     "text": [
      "Error: Cannot divide by zero!\n",
      "This will be executed regardless of exceptions.\n"
     ]
    }
   ],
   "source": [
    "# Error Handling and Exception Handling\n",
    "try:\n",
    "    result=10/0\n",
    "except ZeroDivisionError:\n",
    "    print(\"Error: Cannot divide by zero!\")\n",
    "except Exception as e:\n",
    "    print(f\"An unexpected error occurred: {e}\")\n",
    "else:\n",
    "    print(\"No exception occurred. The result is:\", result)\n",
    "finally:\n",
    "    print(\"This will be executed regardless of exceptions.\")\n",
    "\n",
    "                    # Error: Cannot divide by zero!\n",
    "                    # This will be executed regardless of exceptions.\n"
   ]
  },
  {
   "cell_type": "code",
   "execution_count": null,
   "metadata": {},
   "outputs": [],
   "source": [
    "# Custom Exception Classes\n",
    "class customerror(Exception):\n",
    "    def __init__(self, message) :\n",
    "        self.message=message\n",
    "try:\n",
    "    age=int(input(\"enter the age\"))\n",
    "    if age<0:\n",
    "        raise customerror(\"age cannot be negative\")\n",
    "except customerror as ce:\n",
    "    print(ce)\n",
    "else:\n",
    "    print(\"Your age is:\", age)\n",
    "\n",
    "\n",
    "        "
   ]
  }
 ],
 "metadata": {
  "kernelspec": {
   "display_name": "Python 3",
   "language": "python",
   "name": "python3"
  },
  "language_info": {
   "codemirror_mode": {
    "name": "ipython",
    "version": 3
   },
   "file_extension": ".py",
   "mimetype": "text/x-python",
   "name": "python",
   "nbconvert_exporter": "python",
   "pygments_lexer": "ipython3",
   "version": "3.8.10"
  },
  "orig_nbformat": 4
 },
 "nbformat": 4,
 "nbformat_minor": 2
}
