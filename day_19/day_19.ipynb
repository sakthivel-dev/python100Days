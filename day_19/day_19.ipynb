{
 "cells": [
  {
   "cell_type": "code",
   "execution_count": 11,
   "metadata": {},
   "outputs": [
    {
     "name": "stdout",
     "output_type": "stream",
     "text": [
      "1-D array Iterating : 1\n",
      "1-D array Iterating : 2\n",
      "1-D array Iterating : 4\n",
      "1-D array Iterating : 5\n",
      "1-D array Iterating : 7\n",
      "1-D array Iterating : 8\n",
      "1-D array Iterating : 9\n"
     ]
    }
   ],
   "source": [
    "# package import \n",
    "import numpy as np\n",
    "# 1-D Array Iterating\n",
    "arr_1=np.array([1,2,4,5,7,8,9])\n",
    "for x in arr_1:\n",
    "    print(\"1-D array Iterating :\",x)\n",
    "\n",
    "    # output : 1-D array Iterating : 1\n",
    "             # 1-D array Iterating : 2\n",
    "             # 1-D array Iterating : 4\n",
    "             # 1-D array Iterating : 5\n",
    "             # 1-D array Iterating : 7\n",
    "             # 1-D array Iterating : 8\n",
    "             # 1-D array Iterating : 9\n",
    "\n",
    "# 2-D Array Iterating\n",
    "arr_2=np.array([[1,2,3,4],[2,3,45,5]])\n",
    "for x in arr_2:\n",
    "    print(\"2-D array Iterating :\",x)\n",
    "    for y in x:\n",
    "        print(\"2-D array Iterating :\",y)\n",
    "                        # output : 2-D array Iterating : [1 2 3 4]\n",
    "                                    # 2-D array Iterating : 1\n",
    "                                    # 2-D array Iterating : 2\n",
    "                                    # 2-D array Iterating : 3\n",
    "                                    # 2-D array Iterating : 4\n",
    "                                    # 2-D array Iterating : [ 2  3 45  5]\n",
    "                                    # 2-D array Iterating : 2\n",
    "                                    # 2-D array Iterating : 3\n",
    "                                    # 2-D array Iterating : 45\n",
    "                                    # 2-D array Iterating : 5\n",
    "\n",
    "# 3-D Array Iterating\n",
    "arr_3=np.array([[[1,2],[3,5],[22,44],[2,4]]])\n",
    "for x in arr_3:\n",
    "    print(\"3-D array Iterating :\",x)\n",
    "    for y in x:\n",
    "        print(\"3-D array Iterating :\",y)\n",
    "\n",
    "                    #    output : 3-D array Iterating : [[ 1  2]\n",
    "                                #  [ 3  5]\n",
    "                                #  [22 44]\n",
    "                                #  [ 2  4]]\n",
    "                                # 3-D array Iterating : [1 2]\n",
    "                                # 3-D array Iterating : [3 5]\n",
    "                                # 3-D array Iterating : [22 44]\n",
    "                                # 3-D array Iterating : [2 4]\n",
    "                                        \n",
    "\n"
   ]
  },
  {
   "cell_type": "code",
   "execution_count": 38,
   "metadata": {},
   "outputs": [
    {
     "name": "stdout",
     "output_type": "stream",
     "text": [
      "change data types b'1'\n",
      "change data types b'2'\n",
      "change data types b'3'\n",
      "change data types b'4'\n",
      "Iterating With Different Step Size : 2\n",
      "Iterating With Different Step Size : 4\n",
      "Iterating With Different Step Size : 6\n",
      "Iterating With Different Step Size : 3\n",
      "Iterating With Different Step Size : 6\n",
      "Iterating With Different Step Size : 8\n",
      "Enumerated Iteration Using ndenumerate : 1\n",
      "Enumerated Iteration Using ndenumerate : 2\n",
      "Enumerated Iteration Using ndenumerate : 3\n",
      "Enumerated Iteration Using ndenumerate : 5\n"
     ]
    }
   ],
   "source": [
    "# Iterating Array With Different Data Types\n",
    "\n",
    "# We can use op_dtypes argument and pass it the expected\n",
    "        #  datatype to change the datatype of elements while iterating.\n",
    "\n",
    "# NumPy does not change the data type of the element in-place (where the element is in array) so it needs some other \n",
    "        # space to perform this action, that extra space is called buffer, and in order to enable it in nditer() we pass flags=['buffered'].\n",
    "\n",
    "arr=np.array([1,2,3,4])\n",
    "for x in np.nditer(arr,flags=['buffered'],op_dtypes=['S']):\n",
    "    print(\"change data types\",x)\n",
    "\n",
    "                        #    output : change data types b'1'\n",
    "                        #             change data types b'2'\n",
    "                        #             change data types b'3'\n",
    "                        #             change data types b'4\n",
    "\n",
    "# Iterating With Different Step Size\n",
    "arr=np.array([[2,3,4,5,6,7],[3,4,6,8,8,5]])\n",
    "for x in np.nditer(arr[ :,::2]):\n",
    "    print(\"Iterating With Different Step Size :\",x)\n",
    "\n",
    "                        #        output : Iterating With Different Step Size : 2\n",
    "                        #                 Iterating With Different Step Size : 4\n",
    "                        #                 Iterating With Different Step Size : 6\n",
    "                        #                 Iterating With Different Step Size : 3\n",
    "                        #                 Iterating With Different Step Size : 6\n",
    "                        #                 Iterating With Different Step Size : 8\n",
    "\n",
    "# Enumerated Iteration Using ndenumerate()\n",
    "arr=np.array([1,2,3,5])\n",
    "for idex,i in np.ndenumerate(arr):\n",
    "    print(\"Enumerated Iteration Using ndenumerate :\",i)\n",
    "\n",
    "                                # output: Enumerated Iteration Using ndenumerate : 1\n",
    "                                        # Enumerated Iteration Using ndenumerate : 2\n",
    "                                        # Enumerated Iteration Using ndenumerate : 3\n",
    "                                        # Enumerated Iteration Using ndenumerate : 5"
   ]
  },
  {
   "cell_type": "code",
   "execution_count": null,
   "metadata": {},
   "outputs": [],
   "source": [
    "\n",
    "                                        \n"
   ]
  },
  {
   "cell_type": "code",
   "execution_count": null,
   "metadata": {},
   "outputs": [],
   "source": []
  },
  {
   "cell_type": "code",
   "execution_count": null,
   "metadata": {},
   "outputs": [],
   "source": []
  }
 ],
 "metadata": {
  "kernelspec": {
   "display_name": "Python 3",
   "language": "python",
   "name": "python3"
  },
  "language_info": {
   "codemirror_mode": {
    "name": "ipython",
    "version": 3
   },
   "file_extension": ".py",
   "mimetype": "text/x-python",
   "name": "python",
   "nbconvert_exporter": "python",
   "pygments_lexer": "ipython3",
   "version": "3.8.10"
  },
  "orig_nbformat": 4
 },
 "nbformat": 4,
 "nbformat_minor": 2
}
