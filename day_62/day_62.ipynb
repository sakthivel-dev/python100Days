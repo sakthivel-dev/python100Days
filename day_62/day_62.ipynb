{
 "cells": [
  {
   "cell_type": "markdown",
   "metadata": {},
   "source": [
    "Python generators are a powerful and memory-efficient way to work with sequences of data, \n",
    "particularly when dealing with large datasets or when you want to generate data on the fly. \n",
    "Generators allow you to create iterators without loading the entire dataset into memory at once. \n",
    "They are defined using functions and the yield keyword.\n",
    "\n",
    "Basic Generator:\n",
    "A generator is defined using a function with the yield keyword. \n",
    "When a generator function is called, it doesn't execute immediately but instead returns a generator object,\n",
    " which can be iterated over to produce values."
   ]
  },
  {
   "cell_type": "code",
   "execution_count": 1,
   "metadata": {},
   "outputs": [
    {
     "name": "stdout",
     "output_type": "stream",
     "text": [
      "1\n",
      "2\n",
      "3\n"
     ]
    }
   ],
   "source": [
    "def simple_generator():\n",
    "    yield 1\n",
    "    yield 2\n",
    "    yield 3\n",
    "\n",
    "gen = simple_generator()\n",
    "print(next(gen))  \n",
    "print(next(gen))  \n",
    "print(next(gen))  \n",
    "\n",
    "                    # Output: 1\n",
    "                    # Output: 2\n",
    "                    # Output: 3"
   ]
  },
  {
   "cell_type": "code",
   "execution_count": null,
   "metadata": {},
   "outputs": [],
   "source": []
  }
 ],
 "metadata": {
  "kernelspec": {
   "display_name": "Python 3",
   "language": "python",
   "name": "python3"
  },
  "language_info": {
   "codemirror_mode": {
    "name": "ipython",
    "version": 3
   },
   "file_extension": ".py",
   "mimetype": "text/x-python",
   "name": "python",
   "nbconvert_exporter": "python",
   "pygments_lexer": "ipython3",
   "version": "3.8.10"
  },
  "orig_nbformat": 4
 },
 "nbformat": 4,
 "nbformat_minor": 2
}
