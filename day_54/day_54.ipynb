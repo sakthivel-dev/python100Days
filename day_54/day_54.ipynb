{
 "cells": [
  {
   "attachments": {},
   "cell_type": "markdown",
   "metadata": {},
   "source": [
    "Flask at a beginner-friendly level of understanding:\n",
    "\n",
    "What is Flask?\n",
    "Flask is like a toolkit for building web applications with Python. Imagine you're baking a cake – you have all the ingredients and tools you need, but you get to decide how to put everything together. Similarly, Flask gives you the basics to make a web app, and you decide how to organize and build it.\n",
    "\n",
    "How Does Flask Work?\n",
    "Think of Flask as a traffic cop for the internet. When someone (a web browser) asks for a webpage, Flask listens to them. It checks what they want (the URL they type), and then it tells the right part of your Python code what to do. Your code does the work and gives back a response, like a web page or some data.\n",
    "\n",
    "Routes and Views\n",
    "Flask uses something called \"routes\" to match URLs to pieces of your code. It's like telling the traffic cop which road to take. These pieces of code are called \"views\" – they handle what to show or do when someone visits a specific URL.\n",
    "\n",
    "Templates\n",
    "Imagine you're sending letters. Instead of writing every letter from scratch, you use templates – a framework where you fill in the specific details. Flask does the same for web pages. It takes a template (an HTML file with special placeholders) and fills in the data before sending it to the browser.\n",
    "\n",
    "Building Blocks\n",
    "Flask gives you building blocks to add more features. Need to save information? There are libraries (extensions) for that. Want users to log in? There's a library for that too. It's like having extra tools for different parts of your app.\n",
    "\n",
    "Easy to Start, Expand Later\n",
    "Flask is simple to start with. You can make a basic web app quickly. As you learn more, you can use Flask to build more complex things like blogs, online stores, or even chat applications.\n",
    "\n",
    "Why Use Flask?\n",
    "Flask is great for beginners because it doesn't force you into a strict way of doing things. You have freedom to build things your way. It's also lightweight, meaning it doesn't come with a lot of extras you might not need when you're starting out.\n",
    "\n",
    "\n",
    "\n",
    "\n"
   ]
  },
  {
   "cell_type": "markdown",
   "metadata": {},
   "source": []
  }
 ],
 "metadata": {
  "language_info": {
   "name": "python"
  },
  "orig_nbformat": 4
 },
 "nbformat": 4,
 "nbformat_minor": 2
}
