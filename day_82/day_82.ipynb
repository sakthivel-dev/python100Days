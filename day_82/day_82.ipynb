{
 "cells": [
  {
   "cell_type": "markdown",
   "metadata": {},
   "source": [
    "2. Random Search:\n",
    "\n",
    "Random search is an approach where hyperparameters are randomly sampled from predefined distributions. \n",
    "\n",
    "It doesn't systematically explore all possible combinations but can be more efficient than grid search in finding good hyperparameters.\n",
    "\n",
    "\n",
    "1. Steps in Random Search:\n",
    "\n",
    "Define Hyperparameter Distributions: Specify probability distributions for each hyperparameter. "
   ]
  },
  {
   "cell_type": "code",
   "execution_count": 1,
   "metadata": {},
   "outputs": [],
   "source": [
    "# For example:\n",
    "\n",
    "param_dist = {\n",
    "    'C': [0.1, 1, 10],\n",
    "    'kernel': ['linear', 'rbf'],\n",
    "    'gamma': [0.001, 0.01, 0.1]\n",
    "}\n"
   ]
  },
  {
   "cell_type": "markdown",
   "metadata": {},
   "source": [
    "    2. Random Sampling: Randomly sample hyperparameters from their respective distributions.\n",
    "\n",
    "    3. Training and Evaluation: Train the model with the sampled hyperparameters on the training data and \n",
    "    \n",
    "        evaluate its performance on a validation set (or using cross-validation).\n",
    "\n",
    "    4. Repeat: Repeat the sampling and evaluation process for a specified number of iterations or until a\n",
    "    \n",
    "         convergence criterion is met.\n",
    "\n",
    "    5. Select the Best Combination: Choose the combination of hyperparameters that yields the \n",
    "    \n",
    "        best performance according to a predefined metric.\n",
    "\n",
    "    <!-- Pros of Random Search: -->\n",
    "\n",
    "    * More efficient than grid search, especially when some hyperparameters are less influential.\n",
    "\n",
    "    * Tends to discover good hyperparameter combinations faster.\n",
    "\n",
    "    * Can be easily parallelized.\n",
    "\n",
    "    <!-- Cons of Random Search: -->\n",
    "\n",
    "    * May not guarantee finding the absolute best combination.\n",
    "\n",
    "    * Results can vary between runs due to randomness.\n",
    "\n"
   ]
  },
  {
   "cell_type": "markdown",
   "metadata": {},
   "source": [
    "<!-- Choosing Between Grid Search and Random Search: -->\n",
    "\n",
    "* Use Grid Search when you have the computational resources to exhaustively search a predefined \n",
    "\n",
    "    hyperparameter space and want to ensure you find the best combination.\n",
    "\n",
    "\n",
    "* Use Random Search when you have limited computational resources or when you believe that not all \n",
    "\n",
    "    hyperparameters are equally important, and you want to explore a wider range of possibilities more efficiently.\n",
    "\n",
    "\n",
    "* Both grid search and random search are valuable tools for hyperparameter tuning, and the \n",
    "\n",
    "    choice between them depends on your specific problem, computational resources, and goals."
   ]
  },
  {
   "cell_type": "markdown",
   "metadata": {},
   "source": []
  },
  {
   "cell_type": "markdown",
   "metadata": {},
   "source": []
  },
  {
   "cell_type": "code",
   "execution_count": null,
   "metadata": {},
   "outputs": [],
   "source": []
  }
 ],
 "metadata": {
  "kernelspec": {
   "display_name": "Python 3",
   "language": "python",
   "name": "python3"
  },
  "language_info": {
   "codemirror_mode": {
    "name": "ipython",
    "version": 3
   },
   "file_extension": ".py",
   "mimetype": "text/x-python",
   "name": "python",
   "nbconvert_exporter": "python",
   "pygments_lexer": "ipython3",
   "version": "3.8.10"
  },
  "orig_nbformat": 4
 },
 "nbformat": 4,
 "nbformat_minor": 2
}
