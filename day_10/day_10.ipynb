{
 "cells": [
  {
   "cell_type": "code",
   "execution_count": 8,
   "metadata": {},
   "outputs": [
    {
     "name": "stdout",
     "output_type": "stream",
     "text": [
      "[1, 4, 9, 16, 25, 36, 49, 64, 81, 100]\n",
      "[2, 4, 6, 8, 10, 12]\n",
      "['John', 'Rock', 'Sunny', 'Dany']\n"
     ]
    }
   ],
   "source": [
    "# Example : Squaring numbers in a list\n",
    "numbers=[1,2,3,4,5,6,7,8,9,10]\n",
    "squared_numbers = [i**2 for i in numbers]\n",
    "print(squared_numbers)\n",
    "                    # output:[1, 4, 9, 16, 25, 36, 49, 64, 81, 100]\n",
    "\n",
    "# Example : Filtering even numbers from a list\n",
    "numbers = [1,2,3,4,5,6,7,8,9,10,11,12]\n",
    "even_numbers = [i for i in numbers if i%2 ==0]\n",
    "print(even_numbers)\n",
    "                    # output:[2, 4, 6, 8, 10, 12]\n",
    "\n",
    "# Example : Creating a new list with capitalized names\n",
    "names = [\"john\",\"rock\",\"sunny\",\"dany\"]\n",
    "capitalized_names = [name.capitalize()for name in names]\n",
    "print(capitalized_names)\n",
    "\n",
    "                    # output:['John', 'Rock', 'Sunny', 'Dany']\n"
   ]
  }
 ],
 "metadata": {
  "kernelspec": {
   "display_name": "Python 3",
   "language": "python",
   "name": "python3"
  },
  "language_info": {
   "codemirror_mode": {
    "name": "ipython",
    "version": 3
   },
   "file_extension": ".py",
   "mimetype": "text/x-python",
   "name": "python",
   "nbconvert_exporter": "python",
   "pygments_lexer": "ipython3",
   "version": "3.8.10"
  },
  "orig_nbformat": 4
 },
 "nbformat": 4,
 "nbformat_minor": 2
}
