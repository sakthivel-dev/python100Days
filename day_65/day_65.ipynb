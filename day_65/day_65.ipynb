{
 "cells": [
  {
   "cell_type": "code",
   "execution_count": 1,
   "metadata": {},
   "outputs": [
    {
     "name": "stdout",
     "output_type": "stream",
     "text": [
      "Received: FINSTEIN\n"
     ]
    }
   ],
   "source": [
    "# Define a generator function named echo_generator\n",
    "def echo_generator():\n",
    "    # Continuously loop while receiving values through the yield expression\n",
    "    while True:\n",
    "        # Receive a value sent using the send() method and store it in the 'received' variable\n",
    "        received = yield\n",
    "        # Print the received value\n",
    "        print(\"Received:\", received)\n",
    "\n",
    "# Create an instance of the echo_generator\n",
    "echo = echo_generator()\n",
    "\n",
    "# Start the generator and execute until the first yield expression (prime it)\n",
    "next(echo)\n",
    "\n",
    "# Send the value \"Hello\" to the generator and print the received value\n",
    "echo.send(\"FINSTEIN\")  \n",
    "\n",
    "                # Output: Received: FINSTEIN\n"
   ]
  },
  {
   "cell_type": "code",
   "execution_count": null,
   "metadata": {},
   "outputs": [],
   "source": []
  }
 ],
 "metadata": {
  "kernelspec": {
   "display_name": "Python 3",
   "language": "python",
   "name": "python3"
  },
  "language_info": {
   "codemirror_mode": {
    "name": "ipython",
    "version": 3
   },
   "file_extension": ".py",
   "mimetype": "text/x-python",
   "name": "python",
   "nbconvert_exporter": "python",
   "pygments_lexer": "ipython3",
   "version": "3.8.10"
  },
  "orig_nbformat": 4
 },
 "nbformat": 4,
 "nbformat_minor": 2
}
