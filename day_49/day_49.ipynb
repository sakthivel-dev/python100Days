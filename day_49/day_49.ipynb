{
 "cells": [
  {
   "cell_type": "code",
   "execution_count": 5,
   "metadata": {},
   "outputs": [],
   "source": [
    "import sqlite3\n",
    "\n",
    "# Connect to an SQLite database or create one if it doesn't exist\n",
    "conn = sqlite3.connect(\"example.db\")\n",
    "\n",
    "# Create a cursor object to execute SQL commands\n",
    "cursor = conn.cursor()\n",
    "# Create a table\n",
    "cursor.execute(\"\"\"\n",
    "    CREATE TABLE IF NOT EXISTS students (\n",
    "        id INTEGER PRIMARY KEY,\n",
    "        name TEXT,\n",
    "        age INTEGER\n",
    "    )\n",
    "\"\"\")\n",
    "\n",
    "# Insert data into the table\n",
    "cursor.execute(\"INSERT INTO students (name, age) VALUES (?, ?)\", (\"John\", 25))\n",
    "cursor.execute(\"INSERT INTO students (name, age) VALUES (?, ?)\", (\"Alice\", 22))\n",
    "\n",
    "# Commit the changes to the database\n",
    "conn.commit()\n"
   ]
  },
  {
   "cell_type": "code",
   "execution_count": 6,
   "metadata": {},
   "outputs": [
    {
     "name": "stdout",
     "output_type": "stream",
     "text": [
      "ID: 1, Name: John, Age: 26\n",
      "ID: 2, Name: John, Age: 25\n",
      "ID: 3, Name: Alice, Age: 22\n"
     ]
    }
   ],
   "source": [
    "# Execute a SELECT query\n",
    "cursor.execute(\"SELECT * FROM students\")\n",
    "\n",
    "# Fetch all rows\n",
    "rows = cursor.fetchall()\n",
    "\n",
    "# Display the data\n",
    "for row in rows:\n",
    "    print(f\"ID: {row[0]}, Name: {row[1]}, Age: {row[2]}\")\n"
   ]
  },
  {
   "cell_type": "code",
   "execution_count": 7,
   "metadata": {},
   "outputs": [],
   "source": [
    "# Update data\n",
    "cursor.execute(\"UPDATE students SET age = ? WHERE name = ?\", (26, \"John\"))\n",
    "conn.commit()\n",
    "\n",
    "# Delete data\n",
    "cursor.execute(\"DELETE FROM students WHERE name = ?\", (\"Alice\",))\n",
    "conn.commit()\n",
    "\n",
    "# Close the connection\n",
    "conn.close()\n"
   ]
  },
  {
   "cell_type": "code",
   "execution_count": null,
   "metadata": {},
   "outputs": [],
   "source": []
  }
 ],
 "metadata": {
  "kernelspec": {
   "display_name": "Python 3",
   "language": "python",
   "name": "python3"
  },
  "language_info": {
   "codemirror_mode": {
    "name": "ipython",
    "version": 3
   },
   "file_extension": ".py",
   "mimetype": "text/x-python",
   "name": "python",
   "nbconvert_exporter": "python",
   "pygments_lexer": "ipython3",
   "version": "3.8.10"
  },
  "orig_nbformat": 4
 },
 "nbformat": 4,
 "nbformat_minor": 2
}
