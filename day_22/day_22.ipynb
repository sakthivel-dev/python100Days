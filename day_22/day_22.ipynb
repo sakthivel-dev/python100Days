{
 "cells": [
  {
   "cell_type": "code",
   "execution_count": 15,
   "metadata": {},
   "outputs": [
    {
     "name": "stdout",
     "output_type": "stream",
     "text": [
      "     Duration  Pulse  Maxpulse  Calories\n",
      "0          60    110       130     409.1\n",
      "1          60    117       145     479.0\n",
      "2          60    103       135     340.0\n",
      "3          45    109       175     282.4\n",
      "4          45    117       148     406.0\n",
      "..        ...    ...       ...       ...\n",
      "164        60    105       140     290.8\n",
      "165        60    110       145     300.0\n",
      "166        60    115       145     310.2\n",
      "167        75    120       150     320.4\n",
      "168        75    125       150     330.4\n",
      "\n",
      "[169 rows x 4 columns]\n",
      "     Duration  Pulse  Maxpulse  Calories\n",
      "0          60    110       130     409.1\n",
      "1          60    117       145     479.0\n",
      "2          60    103       135     340.0\n",
      "3          45    109       175     282.4\n",
      "4          45    117       148     406.0\n",
      "..        ...    ...       ...       ...\n",
      "164        60    105       140     290.8\n",
      "165        60    110       145     300.4\n",
      "166        60    115       145     310.2\n",
      "167        75    120       150     320.4\n",
      "168        75    125       150     330.4\n",
      "\n",
      "[169 rows x 4 columns]\n"
     ]
    },
    {
     "ename": "FileNotFoundError",
     "evalue": "[Errno 2] No such file or directory: 'data.xlsx'",
     "output_type": "error",
     "traceback": [
      "\u001b[0;31m---------------------------------------------------------------------------\u001b[0m",
      "\u001b[0;31mFileNotFoundError\u001b[0m                         Traceback (most recent call last)",
      "Cell \u001b[0;32mIn[15], line 16\u001b[0m\n\u001b[1;32m     13\u001b[0m \u001b[39mprint\u001b[39m(file)\n\u001b[1;32m     15\u001b[0m \u001b[39m# excel file read\u001b[39;00m\n\u001b[0;32m---> 16\u001b[0m file\u001b[39m=\u001b[39mpd\u001b[39m.\u001b[39;49mread_excel(\u001b[39m\"\u001b[39;49m\u001b[39mdata.xlsx\u001b[39;49m\u001b[39m\"\u001b[39;49m)\n\u001b[1;32m     17\u001b[0m \u001b[39mprint\u001b[39m(file)\n\u001b[1;32m     19\u001b[0m \u001b[39m# html file read\u001b[39;00m\n",
      "File \u001b[0;32m~/.local/lib/python3.8/site-packages/pandas/io/excel/_base.py:478\u001b[0m, in \u001b[0;36mread_excel\u001b[0;34m(io, sheet_name, header, names, index_col, usecols, dtype, engine, converters, true_values, false_values, skiprows, nrows, na_values, keep_default_na, na_filter, verbose, parse_dates, date_parser, date_format, thousands, decimal, comment, skipfooter, storage_options, dtype_backend)\u001b[0m\n\u001b[1;32m    476\u001b[0m \u001b[39mif\u001b[39;00m \u001b[39mnot\u001b[39;00m \u001b[39misinstance\u001b[39m(io, ExcelFile):\n\u001b[1;32m    477\u001b[0m     should_close \u001b[39m=\u001b[39m \u001b[39mTrue\u001b[39;00m\n\u001b[0;32m--> 478\u001b[0m     io \u001b[39m=\u001b[39m ExcelFile(io, storage_options\u001b[39m=\u001b[39;49mstorage_options, engine\u001b[39m=\u001b[39;49mengine)\n\u001b[1;32m    479\u001b[0m \u001b[39melif\u001b[39;00m engine \u001b[39mand\u001b[39;00m engine \u001b[39m!=\u001b[39m io\u001b[39m.\u001b[39mengine:\n\u001b[1;32m    480\u001b[0m     \u001b[39mraise\u001b[39;00m \u001b[39mValueError\u001b[39;00m(\n\u001b[1;32m    481\u001b[0m         \u001b[39m\"\u001b[39m\u001b[39mEngine should not be specified when passing \u001b[39m\u001b[39m\"\u001b[39m\n\u001b[1;32m    482\u001b[0m         \u001b[39m\"\u001b[39m\u001b[39man ExcelFile - ExcelFile already has the engine set\u001b[39m\u001b[39m\"\u001b[39m\n\u001b[1;32m    483\u001b[0m     )\n",
      "File \u001b[0;32m~/.local/lib/python3.8/site-packages/pandas/io/excel/_base.py:1496\u001b[0m, in \u001b[0;36mExcelFile.__init__\u001b[0;34m(self, path_or_buffer, engine, storage_options)\u001b[0m\n\u001b[1;32m   1494\u001b[0m     ext \u001b[39m=\u001b[39m \u001b[39m\"\u001b[39m\u001b[39mxls\u001b[39m\u001b[39m\"\u001b[39m\n\u001b[1;32m   1495\u001b[0m \u001b[39melse\u001b[39;00m:\n\u001b[0;32m-> 1496\u001b[0m     ext \u001b[39m=\u001b[39m inspect_excel_format(\n\u001b[1;32m   1497\u001b[0m         content_or_path\u001b[39m=\u001b[39;49mpath_or_buffer, storage_options\u001b[39m=\u001b[39;49mstorage_options\n\u001b[1;32m   1498\u001b[0m     )\n\u001b[1;32m   1499\u001b[0m     \u001b[39mif\u001b[39;00m ext \u001b[39mis\u001b[39;00m \u001b[39mNone\u001b[39;00m:\n\u001b[1;32m   1500\u001b[0m         \u001b[39mraise\u001b[39;00m \u001b[39mValueError\u001b[39;00m(\n\u001b[1;32m   1501\u001b[0m             \u001b[39m\"\u001b[39m\u001b[39mExcel file format cannot be determined, you must specify \u001b[39m\u001b[39m\"\u001b[39m\n\u001b[1;32m   1502\u001b[0m             \u001b[39m\"\u001b[39m\u001b[39man engine manually.\u001b[39m\u001b[39m\"\u001b[39m\n\u001b[1;32m   1503\u001b[0m         )\n",
      "File \u001b[0;32m~/.local/lib/python3.8/site-packages/pandas/io/excel/_base.py:1371\u001b[0m, in \u001b[0;36minspect_excel_format\u001b[0;34m(content_or_path, storage_options)\u001b[0m\n\u001b[1;32m   1368\u001b[0m \u001b[39mif\u001b[39;00m \u001b[39misinstance\u001b[39m(content_or_path, \u001b[39mbytes\u001b[39m):\n\u001b[1;32m   1369\u001b[0m     content_or_path \u001b[39m=\u001b[39m BytesIO(content_or_path)\n\u001b[0;32m-> 1371\u001b[0m \u001b[39mwith\u001b[39;00m get_handle(\n\u001b[1;32m   1372\u001b[0m     content_or_path, \u001b[39m\"\u001b[39;49m\u001b[39mrb\u001b[39;49m\u001b[39m\"\u001b[39;49m, storage_options\u001b[39m=\u001b[39;49mstorage_options, is_text\u001b[39m=\u001b[39;49m\u001b[39mFalse\u001b[39;49;00m\n\u001b[1;32m   1373\u001b[0m ) \u001b[39mas\u001b[39;00m handle:\n\u001b[1;32m   1374\u001b[0m     stream \u001b[39m=\u001b[39m handle\u001b[39m.\u001b[39mhandle\n\u001b[1;32m   1375\u001b[0m     stream\u001b[39m.\u001b[39mseek(\u001b[39m0\u001b[39m)\n",
      "File \u001b[0;32m~/.local/lib/python3.8/site-packages/pandas/io/common.py:868\u001b[0m, in \u001b[0;36mget_handle\u001b[0;34m(path_or_buf, mode, encoding, compression, memory_map, is_text, errors, storage_options)\u001b[0m\n\u001b[1;32m    859\u001b[0m         handle \u001b[39m=\u001b[39m \u001b[39mopen\u001b[39m(\n\u001b[1;32m    860\u001b[0m             handle,\n\u001b[1;32m    861\u001b[0m             ioargs\u001b[39m.\u001b[39mmode,\n\u001b[0;32m   (...)\u001b[0m\n\u001b[1;32m    864\u001b[0m             newline\u001b[39m=\u001b[39m\u001b[39m\"\u001b[39m\u001b[39m\"\u001b[39m,\n\u001b[1;32m    865\u001b[0m         )\n\u001b[1;32m    866\u001b[0m     \u001b[39melse\u001b[39;00m:\n\u001b[1;32m    867\u001b[0m         \u001b[39m# Binary mode\u001b[39;00m\n\u001b[0;32m--> 868\u001b[0m         handle \u001b[39m=\u001b[39m \u001b[39mopen\u001b[39;49m(handle, ioargs\u001b[39m.\u001b[39;49mmode)\n\u001b[1;32m    869\u001b[0m     handles\u001b[39m.\u001b[39mappend(handle)\n\u001b[1;32m    871\u001b[0m \u001b[39m# Convert BytesIO or file objects passed with an encoding\u001b[39;00m\n",
      "\u001b[0;31mFileNotFoundError\u001b[0m: [Errno 2] No such file or directory: 'data.xlsx'"
     ]
    }
   ],
   "source": [
    "# pandas \n",
    "# read csv\n",
    "# package import \n",
    "import pandas as pd\n",
    "\n",
    "# Analyzing data with different files \n",
    "# csv file read \n",
    "file=pd.read_csv(\"data.csv\")\n",
    "print(file)\n",
    "\n",
    "# json file read \n",
    "file=pd.read_json(\"data.js\")\n",
    "print(file)\n",
    "\n",
    "# excel file read\n",
    "# this is sample of excel reading method:\n",
    "file=pd.read_excel(\"data.xlsx\")\n",
    "print(file)\n",
    "\n",
    "# html file read\n",
    "# this is sample of reading html method:\n",
    "file=pd.read_html(\"data.html\")\n",
    "print(file)\n",
    "\n",
    "#  output :               # Output exceeds the size limit. Open the full output data in a text editor     \n",
    "#                         Duration  Pulse  Maxpulse  Calories\n",
    "                # 0          60    110       130     409.1\n",
    "                # 1          60    117       145     479.0\n",
    "                # 2          60    103       135     340.0\n",
    "                # 3          45    109       175     282.4\n",
    "                # 4          45    117       148     406.0\n",
    "\n",
    "\n",
    "\n",
    "\n"
   ]
  },
  {
   "cell_type": "code",
   "execution_count": 13,
   "metadata": {},
   "outputs": [
    {
     "data": {
      "text/html": [
       "<div>\n",
       "<style scoped>\n",
       "    .dataframe tbody tr th:only-of-type {\n",
       "        vertical-align: middle;\n",
       "    }\n",
       "\n",
       "    .dataframe tbody tr th {\n",
       "        vertical-align: top;\n",
       "    }\n",
       "\n",
       "    .dataframe thead th {\n",
       "        text-align: right;\n",
       "    }\n",
       "</style>\n",
       "<table border=\"1\" class=\"dataframe\">\n",
       "  <thead>\n",
       "    <tr style=\"text-align: right;\">\n",
       "      <th></th>\n",
       "      <th>Duration</th>\n",
       "      <th>Pulse</th>\n",
       "      <th>Maxpulse</th>\n",
       "      <th>Calories</th>\n",
       "    </tr>\n",
       "  </thead>\n",
       "  <tbody>\n",
       "    <tr>\n",
       "      <th>36</th>\n",
       "      <td>60</td>\n",
       "      <td>102</td>\n",
       "      <td>127</td>\n",
       "      <td>300.0</td>\n",
       "    </tr>\n",
       "    <tr>\n",
       "      <th>13</th>\n",
       "      <td>60</td>\n",
       "      <td>104</td>\n",
       "      <td>132</td>\n",
       "      <td>379.3</td>\n",
       "    </tr>\n",
       "  </tbody>\n",
       "</table>\n",
       "</div>"
      ],
      "text/plain": [
       "    Duration  Pulse  Maxpulse  Calories\n",
       "36        60    102       127     300.0\n",
       "13        60    104       132     379.3"
      ]
     },
     "execution_count": 13,
     "metadata": {},
     "output_type": "execute_result"
    }
   ],
   "source": [
    "# Pandas - Analyzing DataFrames\n",
    "# see the head of the file 2 columns \n",
    "file.head(2)\n",
    "# output : see the index it's starting of file \n",
    "            # \tDuration\tPulse\tMaxpulse\tCalories\n",
    "            # 0\t  60\t    110\t     130\t     409.1\n",
    "            # 1\t  60\t    117\t     145\t     479.0\n",
    "\n",
    "# last two line in the csv use tail\n",
    "file.tail(2)\n",
    "# output : see the index it's last two columns in the data:\n",
    "                        #           Duration\tPulse\tMaxpulse\tCalories\n",
    "                            # 167\t    75\t     120\t  150\t      320.4\n",
    "                            # 168\t    75\t     125\t  150\t      330.4\n",
    "\n",
    "# randomly choose 2 lines use in sample \n",
    "file.sample(2)\n",
    "# output : it's randomly choose the data:\n",
    "                        # \tDuration\tPulse\tMaxpulse\tCalories\n",
    "                        # 36\t  60\t    102\t     127\t      300.0\n",
    "                        # 13\t  60\t    104\t     132\t      379.3\n",
    "\n",
    "\n",
    "# see the datasets columns\n",
    "file.columns\n",
    "# output : dataset columns:\n",
    "            # Index(['Duration', 'Pulse', 'Maxpulse', 'Calories'], dtype='object')\n",
    "\n",
    "# shape of the dataset\n",
    "file.shape\n",
    "            # output : \n",
    "                    # (169, 4)\n",
    "\n",
    "# each columns data types\n",
    "file.dtypes\n",
    "                    # output :\n",
    "                    # Duration      int64\n",
    "                    # Pulse         int64\n",
    "                    # Maxpulse      int64\n",
    "                    # Calories    float64\n",
    "                    # dtype: object\n",
    "\n",
    "\n"
   ]
  },
  {
   "cell_type": "code",
   "execution_count": 16,
   "metadata": {},
   "outputs": [
    {
     "name": "stdout",
     "output_type": "stream",
     "text": [
      "<class 'pandas.core.frame.DataFrame'>\n",
      "Index: 169 entries, 0 to 168\n",
      "Data columns (total 4 columns):\n",
      " #   Column    Non-Null Count  Dtype  \n",
      "---  ------    --------------  -----  \n",
      " 0   Duration  169 non-null    int64  \n",
      " 1   Pulse     169 non-null    int64  \n",
      " 2   Maxpulse  169 non-null    int64  \n",
      " 3   Calories  164 non-null    float64\n",
      "dtypes: float64(1), int64(3)\n",
      "memory usage: 6.6 KB\n"
     ]
    }
   ],
   "source": [
    "file.info()\n",
    "# output : the information of the data:\n",
    "\n",
    "                            # <class 'pandas.core.frame.DataFrame'>\n",
    "                            # RangeIndex: 169 entries, 0 to 168\n",
    "                            # Data columns (total 4 columns):\n",
    "                            #  #   Column    Non-Null Count  Dtype  \n",
    "                            # ---  ------    --------------  -----  \n",
    "                            #  0   Duration  169 non-null    int64  \n",
    "                            #  1   Pulse     169 non-null    int64  \n",
    "                            #  2   Maxpulse  169 non-null    int64  \n",
    "                            #  3   Calories  164 non-null    float64\n",
    "                            # dtypes: float64(1), int64(3)\n",
    "                            # memory usage: 5.4 KB"
   ]
  },
  {
   "cell_type": "code",
   "execution_count": 17,
   "metadata": {},
   "outputs": [
    {
     "data": {
      "text/plain": [
       "Index(['Duration', 'Pulse', 'Maxpulse', 'Calories'], dtype='object')"
      ]
     },
     "execution_count": 17,
     "metadata": {},
     "output_type": "execute_result"
    }
   ],
   "source": [
    "# see the datasets columns\n",
    "file.columns\n",
    "# output : dataset columns:\n",
    "            # Index(['Duration', 'Pulse', 'Maxpulse', 'Calories'], dtype='object')"
   ]
  },
  {
   "cell_type": "code",
   "execution_count": 18,
   "metadata": {},
   "outputs": [
    {
     "data": {
      "text/plain": [
       "(169, 4)"
      ]
     },
     "execution_count": 18,
     "metadata": {},
     "output_type": "execute_result"
    }
   ],
   "source": [
    "# shape of the dataset\n",
    "file.shape\n",
    "            # output : \n",
    "                    # (169, 4)\n"
   ]
  },
  {
   "cell_type": "code",
   "execution_count": 19,
   "metadata": {},
   "outputs": [
    {
     "data": {
      "text/plain": [
       "Duration      int64\n",
       "Pulse         int64\n",
       "Maxpulse      int64\n",
       "Calories    float64\n",
       "dtype: object"
      ]
     },
     "execution_count": 19,
     "metadata": {},
     "output_type": "execute_result"
    }
   ],
   "source": [
    "# each columns data types\n",
    "file.dtypes\n",
    "                    # output :\n",
    "                    # Duration      int64\n",
    "                    # Pulse         int64\n",
    "                    # Maxpulse      int64\n",
    "                    # Calories    float64\n",
    "                    # dtype: object"
   ]
  },
  {
   "cell_type": "code",
   "execution_count": null,
   "metadata": {},
   "outputs": [],
   "source": []
  }
 ],
 "metadata": {
  "kernelspec": {
   "display_name": "Python 3",
   "language": "python",
   "name": "python3"
  },
  "language_info": {
   "codemirror_mode": {
    "name": "ipython",
    "version": 3
   },
   "file_extension": ".py",
   "mimetype": "text/x-python",
   "name": "python",
   "nbconvert_exporter": "python",
   "pygments_lexer": "ipython3",
   "version": "3.8.10"
  },
  "orig_nbformat": 4
 },
 "nbformat": 4,
 "nbformat_minor": 2
}
