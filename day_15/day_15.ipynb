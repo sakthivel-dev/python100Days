{
 "cells": [
  {
   "cell_type": "code",
   "execution_count": 26,
   "metadata": {},
   "outputs": [
    {
     "name": "stdout",
     "output_type": "stream",
     "text": [
      "180\n",
      "170\n",
      "100\n"
     ]
    }
   ],
   "source": [
    "class student:\n",
    "    # Define the marks method with optional parameters m1, m2, and m3\n",
    "    def marks(self, m1=None, m2=None, m3=None):\n",
    "        # Check if all three parameters have values\n",
    "        if m1 is not None and m2 is not None and m3 is not None:\n",
    "            # Calculate the total marks by adding all three values\n",
    "            tot = m1 + m2 + m3\n",
    "            # Check if only m1 and m2 parameters have values\n",
    "        elif m1 is not None and m2 is not None:\n",
    "             # Calculate the total marks by adding m1 and m2 values\n",
    "            tot = m1 + m2\n",
    "        else:\n",
    "            # Use only the m1 value as the total marks\n",
    "            tot = m1\n",
    "        return tot  # Return the total marks\n",
    "\n",
    "std = student()  # Create an instance of the student class\n",
    "\n",
    "print(std.marks(50, 60, 70))  # Calls the marks method with three arguments\n",
    "print(std.marks(80, 90))  # Calls the marks method with two arguments\n",
    "print(std.marks(100))  # Calls the marks method with one argument\n",
    "\n",
    "                            # output: 180\n",
    "                            # output: 170\n",
    "                            # output: 100\n",
    "\n"
   ]
  }
 ],
 "metadata": {
  "kernelspec": {
   "display_name": "Python 3",
   "language": "python",
   "name": "python3"
  },
  "language_info": {
   "codemirror_mode": {
    "name": "ipython",
    "version": 3
   },
   "file_extension": ".py",
   "mimetype": "text/x-python",
   "name": "python",
   "nbconvert_exporter": "python",
   "pygments_lexer": "ipython3",
   "version": "3.8.10"
  },
  "orig_nbformat": 4
 },
 "nbformat": 4,
 "nbformat_minor": 2
}
