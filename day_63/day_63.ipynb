{
 "cells": [
  {
   "cell_type": "code",
   "execution_count": 1,
   "metadata": {},
   "outputs": [
    {
     "name": "stdout",
     "output_type": "stream",
     "text": [
      "1\n",
      "2\n",
      "3\n",
      "4\n",
      "5\n"
     ]
    }
   ],
   "source": [
    "# Using for Loop with Generators\n",
    "# Generators are often used in for loops to iterate over the generated values\n",
    "\n",
    "# Define a generator function named count_up_to that yields numbers up to a given limit\n",
    "def count_up_to(limit):\n",
    "    num = 1\n",
    "    # Iterate while the current number is less than or equal to the provided limit\n",
    "    while num <= limit:\n",
    "        # Yield the current number\n",
    "        yield num\n",
    "        # Increment the number for the next iteration\n",
    "        num += 1\n",
    "\n",
    "# Iterate over the numbers yielded by the count_up_to generator with a limit of 5\n",
    "for num in count_up_to(5):\n",
    "    # Print each yielded number\n",
    "    print(num)  \n",
    "    \n",
    "                # Output: 1, 2, 3, 4, 5\n"
   ]
  },
  {
   "cell_type": "code",
   "execution_count": null,
   "metadata": {},
   "outputs": [],
   "source": []
  }
 ],
 "metadata": {
  "kernelspec": {
   "display_name": "Python 3",
   "language": "python",
   "name": "python3"
  },
  "language_info": {
   "codemirror_mode": {
    "name": "ipython",
    "version": 3
   },
   "file_extension": ".py",
   "mimetype": "text/x-python",
   "name": "python",
   "nbconvert_exporter": "python",
   "pygments_lexer": "ipython3",
   "version": "3.8.10"
  },
  "orig_nbformat": 4
 },
 "nbformat": 4,
 "nbformat_minor": 2
}
