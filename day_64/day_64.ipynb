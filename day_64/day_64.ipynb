{
 "cells": [
  {
   "cell_type": "code",
   "execution_count": null,
   "metadata": {},
   "outputs": [],
   "source": [
    "# Define a generator function named infinite_numbers that yields an infinite sequence of numbers starting from a given start value (default: 1)\n",
    "def infinite_numbers(start=1):\n",
    "    # Continue yielding numbers indefinitely\n",
    "    while True:\n",
    "        # Yield the current start value\n",
    "        yield start\n",
    "        # Increment the start value for the next iteration\n",
    "        start += 1\n",
    "\n",
    "# Create a generator instance using the infinite_numbers function\n",
    "num_gen = infinite_numbers()\n",
    "\n",
    "# Print the first yielded number from the generator (1)\n",
    "print(next(num_gen))  \n",
    "                    # Output: 1\n",
    "\n",
    "# Print the next yielded number from the generator (2)\n",
    "print(next(num_gen))  \n",
    "                    # Output: 2\n"
   ]
  }
 ],
 "metadata": {
  "language_info": {
   "name": "python"
  },
  "orig_nbformat": 4
 },
 "nbformat": 4,
 "nbformat_minor": 2
}
