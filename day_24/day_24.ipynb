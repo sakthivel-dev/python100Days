{
 "cells": [
  {
   "cell_type": "code",
   "execution_count": 47,
   "metadata": {},
   "outputs": [
    {
     "name": "stdout",
     "output_type": "stream",
     "text": [
      "2023-01-01\n",
      "2023-02-01\n",
      "2023-03-01\n",
      "2023-04-01\n",
      "2023-05-01\n",
      "2023-06-01\n",
      "2023-07-01\n",
      "2023-08-01\n",
      "2023-09-01\n",
      "2023-10-01\n",
      "2023-09-01\n",
      "2023-05-01\n",
      "2023-02-01\n"
     ]
    }
   ],
   "source": [
    "import csv\n",
    "import pandas as pd\n",
    "from datetime import datetime\n",
    "\n",
    "date_strings = ['20230101', None,'2023-0201', '2023-03-01', '2023-04-01', '2023-05-01',\n",
    "                '2023-06-01', '2023-07-01', '2023-08-01', '2023-09-01', '2023-10-01',\n",
    "                '2023-09-01', None, '2023-05-01', '2023-0201', 'invalid_date', '2023-13-01']\n",
    "# the above case we have none value and wrong type date \n",
    "\n",
    "# Convert the date strings to datetime format\n",
    "dates = []\n",
    "for date in date_strings:\n",
    "    if date is None:\n",
    "        parsed_date = None\n",
    "    else:\n",
    "        try:\n",
    "            # Attempt to parse the date as 'YYYY-MM-DD' format\n",
    "            parsed_date = datetime.strptime(date, '%Y-%m-%d').date()\n",
    "        except ValueError:\n",
    "            try:\n",
    "                # If the first attempt fails, parse the date as 'YYYYMMDD' format\n",
    "                parsed_date = datetime.strptime(date, '%Y%m%d').date()\n",
    "            except ValueError:\n",
    "                try:\n",
    "                      # If the first attempt fails, parse the date as 'YYYYMMDD' format\n",
    "                    parsed_date = datetime.strptime(date, '%Y-%m%d').date()\n",
    "                except ValueError:\n",
    "                # If the attempts fail, set the date as None\n",
    "                    parsed_date = None\n",
    "    dates.append(parsed_date)\n",
    "\n",
    "# Remove None values from the list\n",
    "dates = [date for date in dates if date is not None]\n",
    "\n",
    "# Display the resulting dates\n",
    "for date in dates:\n",
    "    print(date)\n",
    "\n",
    "    # output :\n",
    "                # 2023-01-01\n",
    "                # 2023-02-01\n",
    "                # 2023-03-01\n",
    "                # 2023-04-01\n",
    "                # 2023-05-01\n",
    "                # 2023-06-01\n",
    "                # 2023-07-01\n",
    "                # 2023-08-01\n",
    "                # 2023-09-01\n",
    "                # 2023-10-01\n",
    "                # 2023-09-01\n",
    "                # 2023-05-01\n",
    "                # 2023-02-01\n"
   ]
  }
 ],
 "metadata": {
  "language_info": {
   "name": "python"
  },
  "orig_nbformat": 4
 },
 "nbformat": 4,
 "nbformat_minor": 2
}
