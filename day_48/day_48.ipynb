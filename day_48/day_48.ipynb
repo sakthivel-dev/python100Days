{
 "cells": [
  {
   "cell_type": "code",
   "execution_count": 1,
   "metadata": {},
   "outputs": [
    {
     "name": "stdout",
     "output_type": "stream",
     "text": [
      "Extracted word: an\n"
     ]
    }
   ],
   "source": [
    "# Extracting Groups \n",
    "import re\n",
    "text = \"I like to eat an apple every day.\"\n",
    "pattern = \"apple\"\n",
    "\n",
    "# Extract words followed by 'apple'\n",
    "pattern = r\"(\\w+) apple\"\n",
    "match = re.search(pattern, text, re.IGNORECASE)\n",
    "\n",
    "if match:\n",
    "    print(\"Extracted word:\", match.group(1))\n",
    "else:\n",
    "    print(\"Pattern not found.\")\n",
    "\n",
    "                    # Extracted word: an"
   ]
  },
  {
   "cell_type": "code",
   "execution_count": 2,
   "metadata": {},
   "outputs": [
    {
     "name": "stdout",
     "output_type": "stream",
     "text": [
      "Replaced Text: I like to eat an orange every day.\n"
     ]
    }
   ],
   "source": [
    "# Replacing Patterns\n",
    "# Replace 'apple' with 'orange'\n",
    "pattern = \"apple\"\n",
    "replacement = \"orange\"\n",
    "new_text = re.sub(pattern, replacement, text, flags=re.IGNORECASE)\n",
    "print(\"Replaced Text:\", new_text)\n",
    "\n",
    "                    # Replaced Text: I like to eat an orange every day.\n"
   ]
  },
  {
   "cell_type": "code",
   "execution_count": null,
   "metadata": {},
   "outputs": [],
   "source": []
  }
 ],
 "metadata": {
  "kernelspec": {
   "display_name": "Python 3",
   "language": "python",
   "name": "python3"
  },
  "language_info": {
   "codemirror_mode": {
    "name": "ipython",
    "version": 3
   },
   "file_extension": ".py",
   "mimetype": "text/x-python",
   "name": "python",
   "nbconvert_exporter": "python",
   "pygments_lexer": "ipython3",
   "version": "3.8.10"
  },
  "orig_nbformat": 4
 },
 "nbformat": 4,
 "nbformat_minor": 2
}
