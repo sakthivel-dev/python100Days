{
 "cells": [
  {
   "attachments": {},
   "cell_type": "markdown",
   "metadata": {},
   "source": [
    "\n",
    "Pandas is a Python library used for working with data sets\n",
    "It has functions for analyzing, cleaning, exploring, and manipulating data\n",
    "Pandas allows us to analyze big data and make conclusions based on statistical theories"
   ]
  },
  {
   "cell_type": "code",
   "execution_count": 41,
   "metadata": {},
   "outputs": [
    {
     "name": "stdout",
     "output_type": "stream",
     "text": [
      "\n",
      "\n",
      "   employee   experice \n",
      "0      john          5\n",
      "1      rock          7\n",
      "2     devil          6\n",
      "\n",
      "\n",
      " 0    12\n",
      "1    14\n",
      "2    16\n",
      "3    18\n",
      "4    20\n",
      "dtype: int64\n",
      "\n",
      "\n",
      " A    12\n",
      "B    14\n",
      "C    16\n",
      "D    18\n",
      "E    20\n",
      "dtype: int64\n"
     ]
    }
   ],
   "source": [
    "\n",
    "# Pandas is an open-source data analysis and manipulation library for Python. \n",
    "# It provides easy-to-use data structures and data analysis tools, \n",
    "# making it a powerful tool for working with structured data\n",
    "\n",
    "# Installation of Pandas\n",
    "import pandas as pd \n",
    "my_datasets={\"employee \":[\"john\",\"rock\",\"devil\"],\n",
    "             \"experice \":[5,7,6]}\n",
    "my_var=pd.DataFrame(my_datasets)\n",
    "print(\"\\n\\n\",my_var)\n",
    "                            # output : \n",
    "                            #       employee   experice \n",
    "                            # 0      john          5\n",
    "                            # 1      rock          7\n",
    "                            # 2     devil          6\n",
    "\n",
    "# series\n",
    "# A Pandas Series is like a column in a table.\n",
    "# It is a one-dimensional array holding data of any type\n",
    "number = [12,14,16,18,20]\n",
    "var =  pd.Series(number)\n",
    "print(\"\\n\\n\",var)\n",
    "                                # output :\n",
    "                                # 0    12\n",
    "                                # 1    14\n",
    "                                # 2    16\n",
    "                                # 3    18\n",
    "                                # 4    20\n",
    "                                # dtype: int64\n",
    "# Labels\n",
    "# If nothing else is specified, the values are labeled with their index number. \n",
    "# First value has index 0, second value has index 1 etc.\n",
    "# This label can be used to access a specified value\n",
    "num = [12,14,16,18,20]\n",
    "new_var =  pd.Series(num,index=['A','B','C','D','E'])\n",
    "print(\"\\n\\n\",new_var)\n",
    "\n",
    "                                    # output :\n",
    "                                    # A    12\n",
    "                                    # B    14\n",
    "                                    # C    16\n",
    "                                    # D    18\n",
    "                                    # E    20\n",
    "                                    # dtype: int64\n",
    "\n",
    "\n",
    "\n",
    "\n"
   ]
  },
  {
   "cell_type": "code",
   "execution_count": null,
   "metadata": {},
   "outputs": [],
   "source": []
  },
  {
   "cell_type": "code",
   "execution_count": null,
   "metadata": {},
   "outputs": [],
   "source": []
  }
 ],
 "metadata": {
  "kernelspec": {
   "display_name": "Python 3",
   "language": "python",
   "name": "python3"
  },
  "language_info": {
   "codemirror_mode": {
    "name": "ipython",
    "version": 3
   },
   "file_extension": ".py",
   "mimetype": "text/x-python",
   "name": "python",
   "nbconvert_exporter": "python",
   "pygments_lexer": "ipython3",
   "version": "3.8.10"
  },
  "orig_nbformat": 4
 },
 "nbformat": 4,
 "nbformat_minor": 2
}
