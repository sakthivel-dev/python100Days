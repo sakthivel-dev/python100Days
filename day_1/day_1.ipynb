{
 "cells": [
  {
   "attachments": {},
   "cell_type": "markdown",
   "metadata": {},
   "source": [
    "print statement\n"
   ]
  },
  {
   "cell_type": "code",
   "execution_count": 25,
   "metadata": {},
   "outputs": [
    {
     "name": "stdout",
     "output_type": "stream",
     "text": [
      "welcome to python 100 days challenge\n"
     ]
    }
   ],
   "source": [
    " \n",
    "# print statement\n",
    "print(\"welcome to python 100 days challenge\")"
   ]
  },
  {
   "attachments": {},
   "cell_type": "markdown",
   "metadata": {},
   "source": [
    "data types"
   ]
  },
  {
   "attachments": {},
   "cell_type": "markdown",
   "metadata": {},
   "source": [
    "Numeric Types_String Type:"
   ]
  },
  {
   "cell_type": "code",
   "execution_count": 27,
   "metadata": {},
   "outputs": [
    {
     "name": "stdout",
     "output_type": "stream",
     "text": [
      "5\n",
      "-2\n",
      "0\n",
      "3.14\n",
      "-0.5\n"
     ]
    }
   ],
   "source": [
    "# Numeric Types\n",
    "# Integer\n",
    "num1 = 5\n",
    "num2 = -2\n",
    "num3 = 0\n",
    "\n",
    "# Float\n",
    "pi = 3.14\n",
    "temperature = -0.5\n",
    "\n",
    "print(num1)        # Output: 5\n",
    "print(num2)        # Output: -2\n",
    "print(num3)        # Output: 0\n",
    "print(pi)          # Output: 3.14\n",
    "print(temperature) # Output: -0.5\n",
    "\n",
    "\n"
   ]
  },
  {
   "cell_type": "code",
   "execution_count": 26,
   "metadata": {},
   "outputs": [
    {
     "name": "stdout",
     "output_type": "stream",
     "text": [
      "Hello, World!\n",
      "Python\n"
     ]
    }
   ],
   "source": [
    "\n",
    "# String Type\n",
    "greeting = \"Hello, World!\"\n",
    "name = 'Python'\n",
    "\n",
    "print(greeting)    # Output: Hello, World!\n",
    "print(name)        # Output: Python\n"
   ]
  },
  {
   "cell_type": "code",
   "execution_count": 28,
   "metadata": {},
   "outputs": [
    {
     "name": "stdout",
     "output_type": "stream",
     "text": [
      "True\n",
      "False\n"
     ]
    }
   ],
   "source": [
    "# Boolean Type:\n",
    "is_true = True\n",
    "is_false = False\n",
    "\n",
    "print(is_true)     # Output: True\n",
    "print(is_false)    # Output: False\n",
    "\n",
    "\n",
    "\n"
   ]
  },
  {
   "cell_type": "code",
   "execution_count": 29,
   "metadata": {},
   "outputs": [
    {
     "name": "stdout",
     "output_type": "stream",
     "text": [
      "[1, 2, 3]\n",
      "['apple', 'banana', 'cherry']\n",
      "(10, 20)\n",
      "('John', 25)\n"
     ]
    }
   ],
   "source": [
    "# Sequence Types\n",
    "# List\n",
    "numbers = [1, 2, 3]\n",
    "fruits = ['apple', 'banana', 'cherry']\n",
    "\n",
    "# Tuple\n",
    "coordinates = (10, 20)\n",
    "person = ('John', 25)\n",
    "\n",
    "print(numbers)     # Output: [1, 2, 3]\n",
    "print(fruits)      # Output: ['apple', 'banana', 'cherry']\n",
    "print(coordinates) # Output: (10, 20)\n",
    "print(person)      # Output: ('John', 25)\n"
   ]
  },
  {
   "cell_type": "code",
   "execution_count": 30,
   "metadata": {},
   "outputs": [
    {
     "name": "stdout",
     "output_type": "stream",
     "text": [
      "{'name': 'John', 'age': 25}\n"
     ]
    }
   ],
   "source": [
    "# Mapping Type:\n",
    "person = {'name': 'John', 'age': 25}\n",
    "print(person)      # Output: {'name': 'John', 'age': 25}\n",
    "\n",
    "\n"
   ]
  },
  {
   "cell_type": "code",
   "execution_count": 31,
   "metadata": {},
   "outputs": [
    {
     "name": "stdout",
     "output_type": "stream",
     "text": [
      "{1, 2, 3, 4, 5}\n"
     ]
    }
   ],
   "source": [
    "# Set Types\n",
    "unique_numbers = {1, 2, 3, 4, 5}\n",
    "\n",
    "print(unique_numbers)  # Output: {1, 2, 3, 4, 5}\n"
   ]
  },
  {
   "cell_type": "code",
   "execution_count": 24,
   "metadata": {},
   "outputs": [
    {
     "name": "stdout",
     "output_type": "stream",
     "text": [
      "None\n"
     ]
    }
   ],
   "source": [
    "# None\n",
    "no_value = None\n",
    "\n",
    "print(no_value)   # Output: None\n"
   ]
  },
  {
   "cell_type": "code",
   "execution_count": null,
   "metadata": {},
   "outputs": [],
   "source": [
    "\n"
   ]
  }
 ],
 "metadata": {
  "kernelspec": {
   "display_name": "Python 3",
   "language": "python",
   "name": "python3"
  },
  "language_info": {
   "codemirror_mode": {
    "name": "ipython",
    "version": 3
   },
   "file_extension": ".py",
   "mimetype": "text/x-python",
   "name": "python",
   "nbconvert_exporter": "python",
   "pygments_lexer": "ipython3",
   "version": "3.8.10"
  },
  "orig_nbformat": 4
 },
 "nbformat": 4,
 "nbformat_minor": 2
}
