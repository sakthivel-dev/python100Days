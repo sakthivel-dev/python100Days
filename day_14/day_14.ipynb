{
 "cells": [
  {
   "cell_type": "code",
   "execution_count": 10,
   "metadata": {},
   "outputs": [
    {
     "data": {
      "text/plain": [
       "'The animal makes a sound'"
      ]
     },
     "execution_count": 10,
     "metadata": {},
     "output_type": "execute_result"
    }
   ],
   "source": [
    "# Polymorphism\n",
    "# Method Overriding:\n",
    "class Animal:\n",
    "    def make_sound(self):\n",
    "        return(\"The animal makes a sound\")\n",
    "    \n",
    "# Define the Dog class, which inherits from Animal\n",
    "class Dog(Animal):\n",
    "    def make_sound(self):\n",
    "        return(\"The dog barks\")\n",
    "\n",
    "# Define the Cat class, which inherits from Animal\n",
    "class Cat(Animal):\n",
    "    def male_sound(self):\n",
    "        return(\"The cat meows\")\n",
    "\n",
    "# Create an instance of the Dog class\n",
    "# dog = Dog()\n",
    "# dog.make_sound()\n",
    "#                 # Outputs: \"The dog barks\"\n",
    "cat=Cat()\n",
    "cat.make_sound()\n",
    "                # Outputs: \"The cat meows\"\n",
    "\n",
    "# Create an instance of the Animal class\n",
    "# animal=Animal()\n",
    "# animal.make_sound()\n",
    "                # The animal makes a sound\n"
   ]
  },
  {
   "cell_type": "code",
   "execution_count": null,
   "metadata": {},
   "outputs": [],
   "source": []
  },
  {
   "cell_type": "code",
   "execution_count": null,
   "metadata": {},
   "outputs": [],
   "source": []
  }
 ],
 "metadata": {
  "kernelspec": {
   "display_name": "Python 3",
   "language": "python",
   "name": "python3"
  },
  "language_info": {
   "codemirror_mode": {
    "name": "ipython",
    "version": 3
   },
   "file_extension": ".py",
   "mimetype": "text/x-python",
   "name": "python",
   "nbconvert_exporter": "python",
   "pygments_lexer": "ipython3",
   "version": "3.8.10"
  },
  "orig_nbformat": 4
 },
 "nbformat": 4,
 "nbformat_minor": 2
}
