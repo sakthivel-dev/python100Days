{
 "cells": [
  {
   "cell_type": "markdown",
   "metadata": {},
   "source": [
    "# Hyperparameter Tuning: Grid Search\n",
    "\n",
    "\n",
    "Hyperparameter tuning is a crucial step in optimizing the performance of machine learning models. \n",
    "\n",
    "It involves finding the best combination of hyperparameters, which are parameters that control the learning process but are not learned from the data. \n",
    "\n",
    "Two common methods for hyperparameter tuning are \n",
    "\n",
    "        <!-- Grid search and Random search -->\n",
    "\n",
    "Here's an overview of both:\n",
    "\n",
    "1. Grid Search:\n",
    "\n",
    "Grid search is an exhaustive search technique where you specify a predefined set of hyperparameter values to explore. \n",
    "\n",
    "It evaluates the model's performance using all possible combinations of hyperparameters within the defined grid.\n",
    "\n"
   ]
  },
  {
   "cell_type": "code",
   "execution_count": 1,
   "metadata": {},
   "outputs": [],
   "source": [
    "# Steps in Grid Search:\n",
    "# 1. Define a Hyperparameter Grid: \n",
    "# Specify a set of hyperparameters and the range of values or options for each hyperparameter. \n",
    "# For example:\n",
    "\n",
    "param_grid = {\n",
    "    'C': [0.1, 1, 10],\n",
    "    'kernel': ['linear', 'rbf'],\n",
    "    'gamma': [0.001, 0.01, 0.1]\n",
    "}\n"
   ]
  },
  {
   "cell_type": "markdown",
   "metadata": {},
   "source": [
    "2. Training and Evaluation: For each combination of hyperparameters in the grid, train the model on the training data and \n",
    "\n",
    "evaluate its performance on a validation set (or using cross-validation).\n",
    "\n",
    "3. Select the Best Combination: Choose the combination of hyperparameters that yields the best performance \n",
    "\n",
    "according to a predefined metric (e.g., accuracy, F1-score, mean squared error).\n",
    "\n",
    "Pros of Grid Search:\n",
    "\n",
    "Exhaustively explores the hyperparameter space.\n",
    "\n",
    "Guaranteed to find the best combination within the specified grid.\n",
    "\n",
    "Provides reproducible results.\n",
    "\n",
    "Cons of Grid Search:\n",
    "\n",
    "Computationally expensive, especially for large hyperparameter grids.\n",
    "\n",
    "May not be efficient when some hyperparameters are less influential than others."
   ]
  },
  {
   "cell_type": "markdown",
   "metadata": {},
   "source": []
  },
  {
   "cell_type": "code",
   "execution_count": null,
   "metadata": {},
   "outputs": [],
   "source": []
  }
 ],
 "metadata": {
  "kernelspec": {
   "display_name": "Python 3",
   "language": "python",
   "name": "python3"
  },
  "language_info": {
   "codemirror_mode": {
    "name": "ipython",
    "version": 3
   },
   "file_extension": ".py",
   "mimetype": "text/x-python",
   "name": "python",
   "nbconvert_exporter": "python",
   "pygments_lexer": "ipython3",
   "version": "3.8.10"
  },
  "orig_nbformat": 4
 },
 "nbformat": 4,
 "nbformat_minor": 2
}
