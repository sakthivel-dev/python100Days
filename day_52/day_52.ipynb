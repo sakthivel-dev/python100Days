{
 "cells": [
  {
   "attachments": {},
   "cell_type": "markdown",
   "metadata": {},
   "source": [
    "1. Open Terminal: Launch your terminal application. \n",
    "You can usually find it in the Applications menu or by searching for \"Terminal.\""
   ]
  },
  {
   "attachments": {},
   "cell_type": "markdown",
   "metadata": {},
   "source": [
    "2. Navigate to Your Project Directory: Use the cd command to navigate to the directory where you want to create your project and virtual environment.\n",
    " \n",
    "    For example:cd /path/to/your/project\n"
   ]
  },
  {
   "attachments": {},
   "cell_type": "markdown",
   "metadata": {},
   "source": [
    "3. Install virtualenv (Optional): If you don't have the virtualenv package installed, you can install it using pip. However, if you're using a modern version of   Python (3.3 and above), you can use the built-in venv module instead.\n",
    "\n",
    "    To install virtualenv: pip install virtualenv"
   ]
  },
  {
   "attachments": {},
   "cell_type": "markdown",
   "metadata": {},
   "source": [
    "4. Create a Virtual Environment: Use the following command to create a virtual environment named myenv. You can replace myenv with a name of your choice.\n",
    "\n",
    "    If you're using virtualenv:virtualenv test"
   ]
  },
  {
   "attachments": {},
   "cell_type": "markdown",
   "metadata": {},
   "source": [
    "5. Activate the Virtual Environment: To activate the virtual environment, use the following \n",
    "\n",
    "    command:source test/bin/activate"
   ]
  },
  {
   "attachments": {},
   "cell_type": "markdown",
   "metadata": {},
   "source": [
    "6. Install Packages: While the virtual environment is active, any packages you install using pip will be isolated to this environment. \n",
    "\n",
    "    For example:pip install package_name"
   ]
  },
  {
   "attachments": {},
   "cell_type": "markdown",
   "metadata": {},
   "source": [
    "7. Deactivate the Virtual Environment: When you're done working in the virtual environment, \n",
    "\n",
    "    you can deactivate it:deactivate\n"
   ]
  },
  {
   "attachments": {},
   "cell_type": "markdown",
   "metadata": {},
   "source": [
    "8. Use the Virtual Environment in Your Project: Whenever you work on your project, you can activate the virtual environment to ensure you're using the correct package versions and dependencies.\n",
    "\n",
    "    commend:source test/bin/activate\n"
   ]
  },
  {
   "attachments": {},
   "cell_type": "markdown",
   "metadata": {},
   "source": [
    "Remember that each time you want to work on your project, you'll need to activate the virtual environment again. This helps isolate your project's dependencies from the system-wide Python installation."
   ]
  },
  {
   "cell_type": "markdown",
   "metadata": {},
   "source": []
  }
 ],
 "metadata": {
  "kernelspec": {
   "display_name": "Python 3",
   "language": "python",
   "name": "python3"
  },
  "language_info": {
   "codemirror_mode": {
    "name": "ipython",
    "version": 3
   },
   "file_extension": ".py",
   "mimetype": "text/x-python",
   "name": "python",
   "nbconvert_exporter": "python",
   "pygments_lexer": "ipython3",
   "version": "3.8.10"
  },
  "orig_nbformat": 4
 },
 "nbformat": 4,
 "nbformat_minor": 2
}
