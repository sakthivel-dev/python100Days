{
 "cells": [
  {
   "cell_type": "code",
   "execution_count": null,
   "metadata": {},
   "outputs": [],
   "source": [
    "# Built-in Functions:\n",
    "# Example: Using the max() function\n",
    "numbers = [10, 5, 20, 15]\n",
    "maximum = max(numbers)\n",
    "print(\"The maximum value is:\", maximum)\n",
    "# The maximum value is: 20"
   ]
  },
  {
   "cell_type": "code",
   "execution_count": null,
   "metadata": {},
   "outputs": [],
   "source": [
    "# Example: Creating a user-defined function\n",
    "def calculate_average (numbers):\n",
    "    total=sum(numbers)\n",
    "    average=total/len(numbers)\n",
    "    return average\n",
    "scores = [60,50,65,70,69]\n",
    "average_score=calculate_average(scores)\n",
    "print(\"average_score\", average_score)\n",
    "# average_score 62.8"
   ]
  },
  {
   "cell_type": "code",
   "execution_count": null,
   "metadata": {},
   "outputs": [],
   "source": [
    "# Example: Exploring List Operations\n",
    "# Creating a list\n",
    "fruits=[\"apple\", \"banana\", \"orange\", \"mango\"] 5\n",
    "# accessing list elements using indexing\n",
    "print(\"first fruit\", fruits[0])\n",
    "int(\"second fruit\", fruits[1])\n",
    " # slicing elements\n",
    "print(\"slicing elements\", fruits[1:3])\n",
    "#modifying list elements\n",
    "fruits[1]=\"grape\"\n",
    "print(\"modifying fruit\", fruits)\n",
    "# appending element to a list\n",
    "fruits.append(\"strawberry\")\n",
    "print(\"appending elements\", fruits)\n",
    "# removing an element from the list\n",
    "removed_fruit=fruits.pop(2)\n",
    "print(\"removed_fruit\", removed_fruit)\n",
    "\n",
    "\n",
    "int(\"remaining fruit\", fruits)\n",
    "# # Using list methods\n",
    "fruits.reverse()\n",
    "print(\"reversed fruit\", fruits)\n",
    "# List comprehension\n",
    "squared_numbers=[x**2 for x in range(1,6)]\n",
    "print(\"squared_numbers\", squared_numbers)\n",
    "\n",
    "\n",
    "# first fruit apple\n",
    "# second fruit banana\n",
    "# slicing elements ['banana', 'orange'] # modifying fruit ['apple', 'grape', 'orange', 'mango']\n",
    "# removed fruit orange\n",
    "# appending elements ['apple', 'grape', 'orange', 'mango', 'strawberry\n",
    "# remaining fruit ['apple', 'grape', 'mango', 'strawberry']\n",
    "# reversed fruit ['strawberry', 'mango', 'grape', 'apple'] # squared_numbers [1, 4, 9, 16, 25]"
   ]
  },
  {
   "cell_type": "code",
   "execution_count": null,
   "metadata": {},
   "outputs": [],
   "source": []
  },
  {
   "cell_type": "code",
   "execution_count": null,
   "metadata": {},
   "outputs": [],
   "source": []
  }
 ],
 "metadata": {
  "language_info": {
   "name": "python"
  },
  "orig_nbformat": 4
 },
 "nbformat": 4,
 "nbformat_minor": 2
}
