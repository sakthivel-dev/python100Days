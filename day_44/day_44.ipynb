{
 "cells": [
  {
   "cell_type": "code",
   "execution_count": 10,
   "metadata": {},
   "outputs": [
    {
     "name": "stdout",
     "output_type": "stream",
     "text": [
      "hi \n",
      "this is sakthivel\n",
      "i'm AI developer in finstein \n",
      "\n",
      "\n"
     ]
    }
   ],
   "source": [
    "# file handling \n",
    "# now here i just read the file \n",
    "try:\n",
    "    with open(\"testing.txt\",\"r\")as file:\n",
    "        content=file.read()\n",
    "    print(content)\n",
    "# in the except will check if file is there or not \n",
    "except FileNotFoundError:\n",
    "    print(\"file not found\")\n",
    "# the error message indicate facing error in open the file \n",
    "except IOError:\n",
    "    print(\"error while reading the file\")\n",
    "\n",
    "                            # hi \n",
    "                            # this is sakthivel\n",
    "                            # i'm AI developer in finstein"
   ]
  },
  {
   "cell_type": "code",
   "execution_count": 11,
   "metadata": {},
   "outputs": [
    {
     "name": "stdout",
     "output_type": "stream",
     "text": [
      "written successfully\n"
     ]
    }
   ],
   "source": [
    "# create one output file:\n",
    "try:\n",
    "    with open(\"output.txt\",\"w\") as file:\n",
    "# write in the file the below message \n",
    "        file.write(\"i try to build one human detection model\")\n",
    "    print(\"written successfully\")\n",
    "except IOError:\n",
    "    (\"error while writeing to the file\")\n",
    "    \n",
    "                            # written successfully"
   ]
  },
  {
   "cell_type": "code",
   "execution_count": 12,
   "metadata": {},
   "outputs": [
    {
     "name": "stdout",
     "output_type": "stream",
     "text": [
      "data appended to the file.\n"
     ]
    }
   ],
   "source": [
    "# Appending to a File:\n",
    "try:\n",
    "    with open(\"output.txt\",\"a\") as file:\n",
    "        file.write(\"the text is appended successfully \")\n",
    "    print(\"data appended to the file.\")\n",
    "except IOError:\n",
    "    print(\"error while appending the file\")\n",
    "\n",
    "                            # data appended to the file."
   ]
  },
  {
   "cell_type": "code",
   "execution_count": null,
   "metadata": {},
   "outputs": [],
   "source": []
  }
 ],
 "metadata": {
  "kernelspec": {
   "display_name": "Python 3",
   "language": "python",
   "name": "python3"
  },
  "language_info": {
   "codemirror_mode": {
    "name": "ipython",
    "version": 3
   },
   "file_extension": ".py",
   "mimetype": "text/x-python",
   "name": "python",
   "nbconvert_exporter": "python",
   "pygments_lexer": "ipython3",
   "version": "3.8.10"
  },
  "orig_nbformat": 4
 },
 "nbformat": 4,
 "nbformat_minor": 2
}
